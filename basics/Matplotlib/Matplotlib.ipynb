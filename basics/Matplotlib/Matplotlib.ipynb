{
 "cells": [
  {
   "cell_type": "code",
   "execution_count": null,
   "id": "4019fade-9058-419c-82cc-f389bd9c2459",
   "metadata": {},
   "outputs": [],
   "source": [
    "from matplotlib import pyplot as plt\n",
    "import numpy as np\n",
    "import pandas as pd\n",
    "from collections import Counter"
   ]
  },
  {
   "cell_type": "raw",
   "id": "e9c8beb2-47ce-44aa-bb9d-c4cdd84dbb20",
   "metadata": {},
   "source": [
    "ages_x = [25, 26, 27, 28, 29, 30, 31, 32, 33, 34, 35]\n",
    "\n",
    "dev_y = [38496, 42000, 46752, 49320, 53200,\n",
    "         56000, 62316, 64928, 67317, 68748, 73752]\n",
    "\n",
    "\n",
    "# Median Python Developer Salaries by Age\n",
    "py_dev_y = [45372, 48876, 53850, 57287, 63016,\n",
    "            65998, 70003, 70000, 71496, 75370, 83640]\n",
    "\n",
    "\n",
    "# Median JavaScript Developer Salaries by Age\n",
    "js_dev_y = [37810, 43515, 46823, 49293, 53437,\n",
    "            56373, 62375, 66674, 68745, 68746, 74583]"
   ]
  },
  {
   "cell_type": "raw",
   "id": "7bfb0ff4-4cb7-4b38-adbf-0f40e00121c6",
   "metadata": {},
   "source": [
    "ages_x = [18, 19, 20, 21, 22, 23, 24, 25,\n",
    "          26, 27, 28, 29, 30, 31, 32, 33, 34, 35,\n",
    "          36, 37, 38, 39, 40, 41, 42, 43, 44, 45, 46, 47, 48, 49, 50, 51, 52, 53, 54, 55]\n"
   ]
  },
  {
   "cell_type": "raw",
   "id": "18a902f9-ed91-41b4-912f-58649103c61a",
   "metadata": {},
   "source": [
    "py_dev_y = [20046, 17100, 20000, 24744, 30500, 37732, 41247, 45372, 48876, 53850, 57287, 63016, 65998, 70003, 70000, 71496, 75370, 83640, 84666,\n",
    "            84392, 78254, 85000, 87038, 91991, 100000, 94796, 97962, 93302, 99240, 102736, 112285, 100771, 104708, 108423, 101407, 112542, 122870, 120000]\n",
    "\n",
    "js_dev_y = [16446, 16791, 18942, 21780, 25704, 29000, 34372, 37810, 43515, 46823, 49293, 53437, 56373, 62375, 66674, 68745, 68746, 74583, 79000,\n",
    "            78508, 79996, 80403, 83820, 88833, 91660, 87892, 96243, 90000, 99313, 91660, 102264, 100000, 100000, 91660, 99240, 108000, 105000, 104000]\n",
    "\n",
    "dev_y = [17784, 16500, 18012, 20628, 25206, 30252, 34368, 38496, 42000, 46752, 49320, 53200, 56000, 62316, 64928, 67317, 68748, 73752, 77232,\n",
    "         78000, 78508, 79536, 82488, 88935, 90000, 90056, 95000, 90000, 91633, 91660, 98150, 98964, 100000, 98988, 100000, 108923, 105000, 103117]"
   ]
  },
  {
   "cell_type": "code",
   "execution_count": 2,
   "id": "50c72520-9a7e-47ac-88d4-1385b618e5fd",
   "metadata": {},
   "outputs": [],
   "source": [
    "%matplotlib inline"
   ]
  },
  {
   "cell_type": "markdown",
   "id": "6d1a9d8d-b91f-448e-97d3-d55018a1ad2a",
   "metadata": {},
   "source": [
    "## Line Plot"
   ]
  },
  {
   "cell_type": "raw",
   "id": "16be5ce8-d7d2-4ece-aab8-24f1461650a5",
   "metadata": {},
   "source": [
    "#plt.title(\"median_salary(USD) by age\")\n",
    "plt.plot(ages_x,dev_y, color='k',linestyle='--',label=\"all devs\")\n",
    "plt.plot(ages_x,py_dev_y,color='b',label=\"python\")\n",
    "plt.plot(ages_x,js_dev_y,label=\"Javascript\")\n",
    "plt.xlabel(\"ages\")\n",
    "plt.ylabel(\"salaries\")\n",
    "plt.title(\"Median Salary(USD) by age\")\n",
    "plt.legend()\n",
    "plt.grid(True)\n",
    "plt.tight_layout()\n",
    "plt.style.use(\"ggplot\")\n",
    "plt.show()"
   ]
  },
  {
   "cell_type": "raw",
   "id": "0b167f70-4da5-477a-9d37-e68d297e7e25",
   "metadata": {},
   "source": [
    "plt.style.available`"
   ]
  },
  {
   "cell_type": "raw",
   "id": "a684cef8-c23d-4cab-bca2-d68c29f2bba8",
   "metadata": {},
   "source": [
    "plt.plot(ages_x,dev_y,label=\"all devs\")\n",
    "plt.plot(ages_x,py_dev_y,label=\"python\")\n",
    "plt.plot(ages_x,js_dev_y,label=\"Javascript\")\n",
    "plt.xlabel(\"ages\")\n",
    "plt.ylabel(\"salaries\")\n",
    "plt.title(\"Median Salary(USD) by age\")\n",
    "plt.legend()\n",
    "plt.grid(True)\n",
    "plt.tight_layout()\n",
    "plt.style.use(\"ggplot\")  #instead of using the colours and labels we can simple use style\n",
    "#plt.xkcd()\n",
    "plt.savefig('plot.png') #to save \n",
    "plt.show()"
   ]
  },
  {
   "cell_type": "markdown",
   "id": "20398dc6-1eb5-4b3f-99b0-b0d9f62307f4",
   "metadata": {},
   "source": [
    "## Bar Chart "
   ]
  },
  {
   "cell_type": "code",
   "execution_count": 3,
   "id": "c4b9eabb-a27e-449e-9a76-670a91b2160f",
   "metadata": {},
   "outputs": [
    {
     "ename": "NameError",
     "evalue": "name 'ages_x' is not defined",
     "output_type": "error",
     "traceback": [
      "\u001b[1;31m---------------------------------------------------------------------------\u001b[0m",
      "\u001b[1;31mNameError\u001b[0m                                 Traceback (most recent call last)",
      "Cell \u001b[1;32mIn[3], line 1\u001b[0m\n\u001b[1;32m----> 1\u001b[0m x_index\u001b[38;5;241m=\u001b[39mnp\u001b[38;5;241m.\u001b[39marange(\u001b[38;5;28mlen\u001b[39m(\u001b[43mages_x\u001b[49m ))\n",
      "\u001b[1;31mNameError\u001b[0m: name 'ages_x' is not defined"
     ]
    }
   ],
   "source": [
    "x_index=np.arange(len(ages_x ))"
   ]
  },
  {
   "cell_type": "code",
   "execution_count": null,
   "id": "b96cdc9b-be81-41ad-82db-5c7cb7dc886c",
   "metadata": {},
   "outputs": [],
   "source": [
    "width=0.25 #default width is 0.8"
   ]
  },
  {
   "cell_type": "raw",
   "id": "1276002b-36d8-4566-8a17-5ae7f314e928",
   "metadata": {},
   "source": [
    "plt.bar(x_index - width,dev_y,width=width,label=\"all devs\")\n",
    "plt.bar(x_index,py_dev_y,width=width,label=\"python\")\n",
    "plt.bar(x_index + width,js_dev_y,width=width,label=\"Javascript\")\n",
    "plt.legend()\n",
    "plt.xticks(ticks=x_index,labels=ages_x) #change the labels\n",
    "plt.xlabel(\"ages\")\n",
    "plt.ylabel(\"salaries\")\n",
    "plt.title(\"Median Salary(USD) by age\") \n",
    "plt.style.use(\"ggplot\")\n",
    "plt.savefig('bar.png')\n",
    "plt.show()"
   ]
  },
  {
   "cell_type": "markdown",
   "id": "0a1e0da1-7260-42c5-bd51-75e6e3509d8f",
   "metadata": {},
   "source": [
    "# Horizontal Bar chart"
   ]
  },
  {
   "cell_type": "code",
   "execution_count": 5,
   "id": "b7e47a18-476a-4aa7-ace1-ef77c642a4dc",
   "metadata": {},
   "outputs": [],
   "source": [
    "df=pd.read_csv('data.csv')"
   ]
  },
  {
   "cell_type": "code",
   "execution_count": 6,
   "id": "c8cea376-6308-4848-a29c-64dc21b543aa",
   "metadata": {},
   "outputs": [],
   "source": [
    "data=pd.DataFrame(df)"
   ]
  },
  {
   "cell_type": "code",
   "execution_count": 9,
   "id": "2fa2c73e-b65d-44e5-afc6-ed95a676fed5",
   "metadata": {},
   "outputs": [
    {
     "data": {
      "text/html": [
       "<div>\n",
       "<style scoped>\n",
       "    .dataframe tbody tr th:only-of-type {\n",
       "        vertical-align: middle;\n",
       "    }\n",
       "\n",
       "    .dataframe tbody tr th {\n",
       "        vertical-align: top;\n",
       "    }\n",
       "\n",
       "    .dataframe thead th {\n",
       "        text-align: right;\n",
       "    }\n",
       "</style>\n",
       "<table border=\"1\" class=\"dataframe\">\n",
       "  <thead>\n",
       "    <tr style=\"text-align: right;\">\n",
       "      <th></th>\n",
       "      <th>Responder_id</th>\n",
       "      <th>LanguagesWorkedWith</th>\n",
       "    </tr>\n",
       "  </thead>\n",
       "  <tbody>\n",
       "    <tr>\n",
       "      <th>0</th>\n",
       "      <td>1</td>\n",
       "      <td>HTML/CSS;Java;JavaScript;Python</td>\n",
       "    </tr>\n",
       "    <tr>\n",
       "      <th>1</th>\n",
       "      <td>2</td>\n",
       "      <td>C++;HTML/CSS;Python</td>\n",
       "    </tr>\n",
       "    <tr>\n",
       "      <th>2</th>\n",
       "      <td>3</td>\n",
       "      <td>HTML/CSS</td>\n",
       "    </tr>\n",
       "    <tr>\n",
       "      <th>3</th>\n",
       "      <td>4</td>\n",
       "      <td>C;C++;C#;Python;SQL</td>\n",
       "    </tr>\n",
       "    <tr>\n",
       "      <th>4</th>\n",
       "      <td>5</td>\n",
       "      <td>C++;HTML/CSS;Java;JavaScript;Python;SQL;VBA</td>\n",
       "    </tr>\n",
       "  </tbody>\n",
       "</table>\n",
       "</div>"
      ],
      "text/plain": [
       "   Responder_id                          LanguagesWorkedWith\n",
       "0             1              HTML/CSS;Java;JavaScript;Python\n",
       "1             2                          C++;HTML/CSS;Python\n",
       "2             3                                     HTML/CSS\n",
       "3             4                          C;C++;C#;Python;SQL\n",
       "4             5  C++;HTML/CSS;Java;JavaScript;Python;SQL;VBA"
      ]
     },
     "execution_count": 9,
     "metadata": {},
     "output_type": "execute_result"
    }
   ],
   "source": [
    "data.head()"
   ]
  },
  {
   "cell_type": "code",
   "execution_count": 13,
   "id": "78afb2ed-96cb-4672-bdc5-efd1e8ce6a92",
   "metadata": {},
   "outputs": [
    {
     "data": {
      "text/html": [
       "<div>\n",
       "<style scoped>\n",
       "    .dataframe tbody tr th:only-of-type {\n",
       "        vertical-align: middle;\n",
       "    }\n",
       "\n",
       "    .dataframe tbody tr th {\n",
       "        vertical-align: top;\n",
       "    }\n",
       "\n",
       "    .dataframe thead th {\n",
       "        text-align: right;\n",
       "    }\n",
       "</style>\n",
       "<table border=\"1\" class=\"dataframe\">\n",
       "  <thead>\n",
       "    <tr style=\"text-align: right;\">\n",
       "      <th></th>\n",
       "      <th>Responder_id</th>\n",
       "      <th>LanguagesWorkedWith</th>\n",
       "    </tr>\n",
       "  </thead>\n",
       "  <tbody>\n",
       "    <tr>\n",
       "      <th>87564</th>\n",
       "      <td>88182</td>\n",
       "      <td>HTML/CSS Java JavaScript</td>\n",
       "    </tr>\n",
       "    <tr>\n",
       "      <th>87565</th>\n",
       "      <td>88212</td>\n",
       "      <td>HTML/CSS JavaScript Python</td>\n",
       "    </tr>\n",
       "    <tr>\n",
       "      <th>87566</th>\n",
       "      <td>88282</td>\n",
       "      <td>Bash/Shell/PowerShell Go HTML/CSS JavaScript W...</td>\n",
       "    </tr>\n",
       "    <tr>\n",
       "      <th>87567</th>\n",
       "      <td>88377</td>\n",
       "      <td>HTML/CSS JavaScript Other(s):</td>\n",
       "    </tr>\n",
       "    <tr>\n",
       "      <th>87568</th>\n",
       "      <td>88863</td>\n",
       "      <td>Bash/Shell/PowerShell HTML/CSS Java JavaScript...</td>\n",
       "    </tr>\n",
       "  </tbody>\n",
       "</table>\n",
       "</div>"
      ],
      "text/plain": [
       "       Responder_id                                LanguagesWorkedWith\n",
       "87564         88182                           HTML/CSS Java JavaScript\n",
       "87565         88212                         HTML/CSS JavaScript Python\n",
       "87566         88282  Bash/Shell/PowerShell Go HTML/CSS JavaScript W...\n",
       "87567         88377                      HTML/CSS JavaScript Other(s):\n",
       "87568         88863  Bash/Shell/PowerShell HTML/CSS Java JavaScript..."
      ]
     },
     "execution_count": 13,
     "metadata": {},
     "output_type": "execute_result"
    }
   ],
   "source": [
    "data.tail()"
   ]
  },
  {
   "cell_type": "code",
   "execution_count": 14,
   "id": "858cd983-89ee-4c15-8ea4-4431695ffdbd",
   "metadata": {},
   "outputs": [],
   "source": [
    "data['LanguagesWorkedWith']=data['LanguagesWorkedWith'].str.replace(';',' ')"
   ]
  },
  {
   "cell_type": "code",
   "execution_count": 15,
   "id": "d43026c6-3b29-43b4-baeb-27e008df5662",
   "metadata": {},
   "outputs": [
    {
     "data": {
      "text/html": [
       "<div>\n",
       "<style scoped>\n",
       "    .dataframe tbody tr th:only-of-type {\n",
       "        vertical-align: middle;\n",
       "    }\n",
       "\n",
       "    .dataframe tbody tr th {\n",
       "        vertical-align: top;\n",
       "    }\n",
       "\n",
       "    .dataframe thead th {\n",
       "        text-align: right;\n",
       "    }\n",
       "</style>\n",
       "<table border=\"1\" class=\"dataframe\">\n",
       "  <thead>\n",
       "    <tr style=\"text-align: right;\">\n",
       "      <th></th>\n",
       "      <th>Responder_id</th>\n",
       "      <th>LanguagesWorkedWith</th>\n",
       "    </tr>\n",
       "  </thead>\n",
       "  <tbody>\n",
       "    <tr>\n",
       "      <th>0</th>\n",
       "      <td>1</td>\n",
       "      <td>HTML/CSS Java JavaScript Python</td>\n",
       "    </tr>\n",
       "    <tr>\n",
       "      <th>1</th>\n",
       "      <td>2</td>\n",
       "      <td>C++ HTML/CSS Python</td>\n",
       "    </tr>\n",
       "    <tr>\n",
       "      <th>2</th>\n",
       "      <td>3</td>\n",
       "      <td>HTML/CSS</td>\n",
       "    </tr>\n",
       "    <tr>\n",
       "      <th>3</th>\n",
       "      <td>4</td>\n",
       "      <td>C C++ C# Python SQL</td>\n",
       "    </tr>\n",
       "    <tr>\n",
       "      <th>4</th>\n",
       "      <td>5</td>\n",
       "      <td>C++ HTML/CSS Java JavaScript Python SQL VBA</td>\n",
       "    </tr>\n",
       "  </tbody>\n",
       "</table>\n",
       "</div>"
      ],
      "text/plain": [
       "   Responder_id                          LanguagesWorkedWith\n",
       "0             1              HTML/CSS Java JavaScript Python\n",
       "1             2                          C++ HTML/CSS Python\n",
       "2             3                                     HTML/CSS\n",
       "3             4                          C C++ C# Python SQL\n",
       "4             5  C++ HTML/CSS Java JavaScript Python SQL VBA"
      ]
     },
     "execution_count": 15,
     "metadata": {},
     "output_type": "execute_result"
    }
   ],
   "source": [
    "data.head()"
   ]
  },
  {
   "cell_type": "code",
   "execution_count": null,
   "id": "b5008c1e-b7d7-4ed2-8174-a34f84117234",
   "metadata": {},
   "outputs": [],
   "source": [
    "#data.to_string(index=False)\n",
    "#data.to_csv('cleaned_data.csv',index=False)"
   ]
  },
  {
   "cell_type": "code",
   "execution_count": null,
   "id": "9cb3522c-2a2c-40e4-aa7d-4b7d3582c942",
   "metadata": {},
   "outputs": [],
   "source": [
    "data"
   ]
  },
  {
   "cell_type": "code",
   "execution_count": null,
   "id": "ccee4a50-51fb-49b7-a164-c55210405975",
   "metadata": {},
   "outputs": [],
   "source": [
    "#c_data=pd.read_csv('cleaned_data.csv')"
   ]
  },
  {
   "cell_type": "code",
   "execution_count": null,
   "id": "d0963efc-c00d-4376-865f-7513a46a1bf0",
   "metadata": {},
   "outputs": [],
   "source": [
    "#cleaned_data=pd.DataFrame(c_data)\n"
   ]
  },
  {
   "cell_type": "code",
   "execution_count": 33,
   "id": "2ea9e9a3-b994-4b23-820f-264e34cb0776",
   "metadata": {},
   "outputs": [],
   "source": [
    "all=data['LanguagesWorkedWith']"
   ]
  },
  {
   "cell_type": "code",
   "execution_count": 35,
   "id": "3e657d41-3587-486d-aa16-282d15d30c5b",
   "metadata": {},
   "outputs": [],
   "source": [
    "flat=[L for sublist in all for L in sublist]\n",
    "\n"
   ]
  },
  {
   "cell_type": "code",
   "execution_count": 36,
   "id": "04aa7bbe-fb60-4043-b3bb-15e5e54f1d1a",
   "metadata": {},
   "outputs": [],
   "source": [
    "language_counts=Counter(flat)"
   ]
  },
  {
   "cell_type": "code",
   "execution_count": 40,
   "id": "e5ff7b34-5d82-47b7-a0bf-4d8f6bc67e87",
   "metadata": {},
   "outputs": [],
   "source": [
    "languages=list(language_counts.keys())\n",
    "popularity=list(language_counts.values())"
   ]
  },
  {
   "cell_type": "code",
   "execution_count": 39,
   "id": "e2478df7-fe12-453c-ba25-cc4bdead718e",
   "metadata": {},
   "outputs": [
    {
     "data": {
      "image/png": "[encoded data removed]",
      "text/plain": [
       "<Figure size 640x480 with 1 Axes>"
      ]
     },
     "metadata": {},
     "output_type": "display_data"
    }
   ],
   "source": [
    "plt.barh(languages,popularity)\n",
    "plt.title(\"most popular languages\")\n",
    "plt.xlabel(\"no of people who uses\")\n",
    "plt.tight_layout()\n",
    "plt.show()"
   ]
  },
  {
   "cell_type": "code",
   "execution_count": null,
   "id": "6568975b-ab60-4e94-9dc2-28204a277776",
   "metadata": {},
   "outputs": [],
   "source": []
  }
 ],
 "metadata": {
  "kernelspec": {
   "display_name": "Python 3 (ipykernel)",
   "language": "python",
   "name": "python3"
  },
  "language_info": {
   "codemirror_mode": {
    "name": "ipython",
    "version": 3
   },
   "file_extension": ".py",
   "mimetype": "text/x-python",
   "name": "python",
   "nbconvert_exporter": "python",
   "pygments_lexer": "ipython3",
   "version": "3.10.1"
  }
 },
 "nbformat": 4,
 "nbformat_minor": 5
}
