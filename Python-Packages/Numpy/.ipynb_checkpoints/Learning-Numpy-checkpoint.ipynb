{
 "cells": [
  {
   "cell_type": "code",
   "execution_count": 1,
   "id": "73e526cb-605d-46b2-b44e-c5ec429141c6",
   "metadata": {},
   "outputs": [],
   "source": [
    "import numpy as np"
   ]
  },
  {
   "cell_type": "code",
   "execution_count": 4,
   "id": "9ca31008-b242-4ccf-adf2-53cfe09d7fb7",
   "metadata": {},
   "outputs": [
    {
     "data": {
      "text/plain": [
       "array([ 1,  2,  3, 45, 67,  7])"
      ]
     },
     "execution_count": 4,
     "metadata": {},
     "output_type": "execute_result"
    }
   ],
   "source": [
    "a=np.array([1,2,3,45,67,7])\n",
    "a"
   ]
  },
  {
   "cell_type": "code",
   "execution_count": 29,
   "id": "3fc4dfa8-7c10-48c1-9aff-86afc3e19d90",
   "metadata": {},
   "outputs": [],
   "source": [
    "b=np.array([[2,3,4,6,7,7,2,6],[3,6,7,6,88,4,2,5]],dtype='int64')"
   ]
  },
  {
   "cell_type": "code",
   "execution_count": 25,
   "id": "048a235c-105c-48d6-a7c5-0c3daed9f75a",
   "metadata": {},
   "outputs": [
    {
     "data": {
      "text/plain": [
       "array([[ 2,  3,  4,  6,  7,  7,  2,  6],\n",
       "       [ 3,  6,  7,  6, 88,  4,  2,  5]], dtype=int32)"
      ]
     },
     "execution_count": 25,
     "metadata": {},
     "output_type": "execute_result"
    }
   ],
   "source": [
    "b"
   ]
  },
  {
   "cell_type": "code",
   "execution_count": 16,
   "id": "db3a880b-877f-4e4a-92e0-4b09cb51dae0",
   "metadata": {},
   "outputs": [
    {
     "data": {
      "text/plain": [
       "1"
      ]
     },
     "execution_count": 16,
     "metadata": {},
     "output_type": "execute_result"
    }
   ],
   "source": [
    "a.ndim"
   ]
  },
  {
   "cell_type": "code",
   "execution_count": 17,
   "id": "85c8b9fc-abe8-4ae2-9679-2e4455490975",
   "metadata": {},
   "outputs": [
    {
     "data": {
      "text/plain": [
       "2"
      ]
     },
     "execution_count": 17,
     "metadata": {},
     "output_type": "execute_result"
    }
   ],
   "source": [
    "b.ndim"
   ]
  },
  {
   "cell_type": "code",
   "execution_count": 18,
   "id": "3e1f106c-b73b-42f2-8178-dd35cb3840cc",
   "metadata": {},
   "outputs": [
    {
     "data": {
      "text/plain": [
       "dtype('int64')"
      ]
     },
     "execution_count": 18,
     "metadata": {},
     "output_type": "execute_result"
    }
   ],
   "source": [
    "b.dtype #get dimension"
   ]
  },
  {
   "cell_type": "code",
   "execution_count": 19,
   "id": "3463ac73-ebed-418a-b0fd-b1d46f544622",
   "metadata": {},
   "outputs": [
    {
     "data": {
      "text/plain": [
       "(2, 8)"
      ]
     },
     "execution_count": 19,
     "metadata": {},
     "output_type": "execute_result"
    }
   ],
   "source": [
    "b.shape"
   ]
  },
  {
   "cell_type": "code",
   "execution_count": 20,
   "id": "183d5d9c-029f-47c8-a52b-2e6f905332b7",
   "metadata": {},
   "outputs": [
    {
     "data": {
      "text/plain": [
       "(6,)"
      ]
     },
     "execution_count": 20,
     "metadata": {},
     "output_type": "execute_result"
    }
   ],
   "source": [
    "a.shape "
   ]
  },
  {
   "cell_type": "code",
   "execution_count": 21,
   "id": "ea1f4f43-b7ca-48ff-98a0-0ddf8ba6ce84",
   "metadata": {},
   "outputs": [
    {
     "data": {
      "text/plain": [
       "8"
      ]
     },
     "execution_count": 21,
     "metadata": {},
     "output_type": "execute_result"
    }
   ],
   "source": [
    "b.itemsize #getsize"
   ]
  },
  {
   "cell_type": "code",
   "execution_count": 30,
   "id": "21b1d673-0ecf-4239-a4ce-a134fc41515c",
   "metadata": {},
   "outputs": [
    {
     "data": {
      "text/plain": [
       "128"
      ]
     },
     "execution_count": 30,
     "metadata": {},
     "output_type": "execute_result"
    }
   ],
   "source": [
    "b.nbytes #get total size"
   ]
  },
  {
   "cell_type": "markdown",
   "id": "8afafd73-4ce2-4241-9a91-6fcf5b8c33fc",
   "metadata": {},
   "source": [
    "## Accessing/changing Specific elements,rows,columns etc"
   ]
  },
  {
   "cell_type": "code",
   "execution_count": 34,
   "id": "d8c0342b-7ad0-4a5f-8f74-6e27ced96944",
   "metadata": {},
   "outputs": [],
   "source": [
    "x=np.array([[1,22,34,45,6,7,8,54],[2,3,5,6,7,8,55,34]])"
   ]
  },
  {
   "cell_type": "code",
   "execution_count": 35,
   "id": "6d84be71-96de-4f73-9975-a694539d1a30",
   "metadata": {},
   "outputs": [
    {
     "data": {
      "text/plain": [
       "array([[ 1, 22, 34, 45,  6,  7,  8, 54],\n",
       "       [ 2,  3,  5,  6,  7,  8, 55, 34]])"
      ]
     },
     "execution_count": 35,
     "metadata": {},
     "output_type": "execute_result"
    }
   ],
   "source": [
    "x"
   ]
  },
  {
   "cell_type": "code",
   "execution_count": 41,
   "id": "abd11984-9b29-4225-978f-db0f4ef92911",
   "metadata": {},
   "outputs": [
    {
     "data": {
      "text/plain": [
       "np.int64(34)"
      ]
     },
     "execution_count": 41,
     "metadata": {},
     "output_type": "execute_result"
    }
   ],
   "source": [
    "#get a specific element[r,c]\n",
    "#suppose 32\n",
    "a[0,-6]"
   ]
  },
  {
   "cell_type": "code",
   "execution_count": 46,
   "id": "5acc113e-08f5-4992-b6b4-021553b54a0b",
   "metadata": {},
   "outputs": [
    {
     "data": {
      "text/plain": [
       "array([ 2,  3,  5,  6,  7,  8, 55, 34])"
      ]
     },
     "execution_count": 46,
     "metadata": {},
     "output_type": "execute_result"
    }
   ],
   "source": [
    "#get a specific row\n",
    "a[1,:]"
   ]
  },
  {
   "cell_type": "code",
   "execution_count": 47,
   "id": "6ff49cf3-09e2-4d5b-9475-a79345518bb0",
   "metadata": {},
   "outputs": [
    {
     "data": {
      "text/plain": [
       "array([34,  5])"
      ]
     },
     "execution_count": 47,
     "metadata": {},
     "output_type": "execute_result"
    }
   ],
   "source": [
    "#get a specific row\n",
    "a[:,2]"
   ]
  },
  {
   "cell_type": "code",
   "execution_count": 50,
   "id": "189b57bf-23d4-4caf-8a81-1284a984f348",
   "metadata": {},
   "outputs": [
    {
     "data": {
      "text/plain": [
       "array([22, 45,  7])"
      ]
     },
     "execution_count": 50,
     "metadata": {},
     "output_type": "execute_result"
    }
   ],
   "source": [
    "#[startindex:endindex:stepsize]\n",
    "a[0,1:7:2]"
   ]
  },
  {
   "cell_type": "code",
   "execution_count": null,
   "id": "0dbb4a7d-d3be-4e15-9a6b-340c0738626c",
   "metadata": {},
   "outputs": [],
   "source": []
  }
 ],
 "metadata": {
  "kernelspec": {
   "display_name": "Python 3 (ipykernel)",
   "language": "python",
   "name": "python3"
  },
  "language_info": {
   "codemirror_mode": {
    "name": "ipython",
    "version": 3
   },
   "file_extension": ".py",
   "mimetype": "text/x-python",
   "name": "python",
   "nbconvert_exporter": "python",
   "pygments_lexer": "ipython3",
   "version": "3.10.1"
  }
 },
 "nbformat": 4,
 "nbformat_minor": 5
}
